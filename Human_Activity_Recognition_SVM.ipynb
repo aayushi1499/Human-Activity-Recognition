{
 "cells": [
  {
   "cell_type": "code",
   "execution_count": 2,
   "metadata": {
    "colab": {},
    "colab_type": "code",
    "id": "qR7FLlXTY0nz"
   },
   "outputs": [],
   "source": [
    "# Import the machine learning libraries.\n",
    "import numpy as np\n",
    "import pylab as pl\n",
    "import pandas as pd\n",
    "import matplotlib.pyplot as plt \n",
    "%matplotlib inline\n",
    "import seaborn as sns\n",
    "from sklearn.utils import shuffle\n",
    "from sklearn.svm import SVC\n",
    "from sklearn.metrics import confusion_matrix,classification_report\n",
    "from mlxtend.plotting import plot_confusion_matrix\n",
    "from sklearn.model_selection import KFold\n",
    "from sklearn.model_selection import cross_val_score, GridSearchCV\n",
    "from sklearn import metrics"
   ]
  },
  {
   "cell_type": "code",
   "execution_count": 3,
   "metadata": {
    "colab": {},
    "colab_type": "code",
    "id": "L-QNwQQoZQwf"
   },
   "outputs": [],
   "source": [
    "# Load the Human Activity Recognition Using Smartphones dataset.\n",
    "# The dataset can be downloaded here: https://www.kaggle.com/uciml/human-activity-recognition-with-smartphones.\n",
    "train = shuffle(pd.read_csv(\"train.csv\"))\n",
    "test = shuffle(pd.read_csv(\"test.csv\"))"
   ]
  },
  {
   "cell_type": "code",
   "execution_count": 4,
   "metadata": {
    "colab": {
     "base_uri": "https://localhost:8080/",
     "height": 34
    },
    "colab_type": "code",
    "executionInfo": {
     "elapsed": 300,
     "status": "ok",
     "timestamp": 1588054970321,
     "user": {
      "displayName": "Junmo An",
      "photoUrl": "https://lh3.googleusercontent.com/a-/AOh14Gj5i3lgizGZ18Gjf053phbgFazmHzZTmG3QNyhO=s64",
      "userId": "01963327505044644290"
     },
     "user_tz": 300
    },
    "id": "qjd_6yFbc6bB",
    "outputId": "7ba3f152-75c0-4089-d9c6-7de4d686fc17"
   },
   "outputs": [
    {
     "name": "stdout",
     "output_type": "stream",
     "text": [
      "(7352, 563) (2947, 563)\n"
     ]
    }
   ],
   "source": [
    "print(train.shape, test.shape)"
   ]
  },
  {
   "cell_type": "code",
   "execution_count": 5,
   "metadata": {
    "colab": {
     "base_uri": "https://localhost:8080/",
     "height": 442
    },
    "colab_type": "code",
    "executionInfo": {
     "elapsed": 365,
     "status": "ok",
     "timestamp": 1588054985862,
     "user": {
      "displayName": "Junmo An",
      "photoUrl": "https://lh3.googleusercontent.com/a-/AOh14Gj5i3lgizGZ18Gjf053phbgFazmHzZTmG3QNyhO=s64",
      "userId": "01963327505044644290"
     },
     "user_tz": 300
    },
    "id": "qjr7rfvuc966",
    "outputId": "eb34b3e8-5ccf-4d8b-876b-cbd49f7b14d9"
   },
   "outputs": [
    {
     "data": {
      "text/html": [
       "<div>\n",
       "<style scoped>\n",
       "    .dataframe tbody tr th:only-of-type {\n",
       "        vertical-align: middle;\n",
       "    }\n",
       "\n",
       "    .dataframe tbody tr th {\n",
       "        vertical-align: top;\n",
       "    }\n",
       "\n",
       "    .dataframe thead th {\n",
       "        text-align: right;\n",
       "    }\n",
       "</style>\n",
       "<table border=\"1\" class=\"dataframe\">\n",
       "  <thead>\n",
       "    <tr style=\"text-align: right;\">\n",
       "      <th></th>\n",
       "      <th>tBodyAcc-mean()-X</th>\n",
       "      <th>tBodyAcc-mean()-Y</th>\n",
       "      <th>tBodyAcc-mean()-Z</th>\n",
       "      <th>tBodyAcc-std()-X</th>\n",
       "      <th>tBodyAcc-std()-Y</th>\n",
       "      <th>tBodyAcc-std()-Z</th>\n",
       "      <th>tBodyAcc-mad()-X</th>\n",
       "      <th>tBodyAcc-mad()-Y</th>\n",
       "      <th>tBodyAcc-mad()-Z</th>\n",
       "      <th>tBodyAcc-max()-X</th>\n",
       "      <th>...</th>\n",
       "      <th>fBodyBodyGyroJerkMag-kurtosis()</th>\n",
       "      <th>angle(tBodyAccMean,gravity)</th>\n",
       "      <th>angle(tBodyAccJerkMean),gravityMean)</th>\n",
       "      <th>angle(tBodyGyroMean,gravityMean)</th>\n",
       "      <th>angle(tBodyGyroJerkMean,gravityMean)</th>\n",
       "      <th>angle(X,gravityMean)</th>\n",
       "      <th>angle(Y,gravityMean)</th>\n",
       "      <th>angle(Z,gravityMean)</th>\n",
       "      <th>subject</th>\n",
       "      <th>Activity</th>\n",
       "    </tr>\n",
       "  </thead>\n",
       "  <tbody>\n",
       "    <tr>\n",
       "      <th>5635</th>\n",
       "      <td>0.348365</td>\n",
       "      <td>0.061673</td>\n",
       "      <td>-0.053334</td>\n",
       "      <td>0.127036</td>\n",
       "      <td>-0.271349</td>\n",
       "      <td>-0.250435</td>\n",
       "      <td>0.027827</td>\n",
       "      <td>-0.291141</td>\n",
       "      <td>-0.286538</td>\n",
       "      <td>0.438846</td>\n",
       "      <td>...</td>\n",
       "      <td>-0.752914</td>\n",
       "      <td>-0.179503</td>\n",
       "      <td>0.714692</td>\n",
       "      <td>-0.511509</td>\n",
       "      <td>-0.035491</td>\n",
       "      <td>-0.847839</td>\n",
       "      <td>0.151238</td>\n",
       "      <td>-0.077499</td>\n",
       "      <td>26</td>\n",
       "      <td>WALKING_DOWNSTAIRS</td>\n",
       "    </tr>\n",
       "    <tr>\n",
       "      <th>3255</th>\n",
       "      <td>0.276647</td>\n",
       "      <td>-0.017646</td>\n",
       "      <td>-0.106592</td>\n",
       "      <td>-0.995632</td>\n",
       "      <td>-0.989836</td>\n",
       "      <td>-0.996694</td>\n",
       "      <td>-0.996714</td>\n",
       "      <td>-0.988527</td>\n",
       "      <td>-0.996318</td>\n",
       "      <td>-0.940484</td>\n",
       "      <td>...</td>\n",
       "      <td>-0.947674</td>\n",
       "      <td>0.298777</td>\n",
       "      <td>-0.378397</td>\n",
       "      <td>0.461111</td>\n",
       "      <td>-0.345491</td>\n",
       "      <td>-0.670536</td>\n",
       "      <td>0.218627</td>\n",
       "      <td>0.217504</td>\n",
       "      <td>17</td>\n",
       "      <td>STANDING</td>\n",
       "    </tr>\n",
       "    <tr>\n",
       "      <th>5458</th>\n",
       "      <td>0.161610</td>\n",
       "      <td>0.001877</td>\n",
       "      <td>-0.088456</td>\n",
       "      <td>-0.473340</td>\n",
       "      <td>-0.146694</td>\n",
       "      <td>-0.199407</td>\n",
       "      <td>-0.518846</td>\n",
       "      <td>-0.192398</td>\n",
       "      <td>-0.128791</td>\n",
       "      <td>-0.284777</td>\n",
       "      <td>...</td>\n",
       "      <td>-0.792476</td>\n",
       "      <td>0.826324</td>\n",
       "      <td>-0.432949</td>\n",
       "      <td>-0.907831</td>\n",
       "      <td>0.131956</td>\n",
       "      <td>-0.787769</td>\n",
       "      <td>0.244190</td>\n",
       "      <td>0.031887</td>\n",
       "      <td>25</td>\n",
       "      <td>WALKING_UPSTAIRS</td>\n",
       "    </tr>\n",
       "    <tr>\n",
       "      <th>5375</th>\n",
       "      <td>0.205379</td>\n",
       "      <td>-0.080617</td>\n",
       "      <td>0.010700</td>\n",
       "      <td>-0.954531</td>\n",
       "      <td>-0.825695</td>\n",
       "      <td>-0.812239</td>\n",
       "      <td>-0.955896</td>\n",
       "      <td>-0.819543</td>\n",
       "      <td>-0.807501</td>\n",
       "      <td>-0.925065</td>\n",
       "      <td>...</td>\n",
       "      <td>-0.741152</td>\n",
       "      <td>0.022598</td>\n",
       "      <td>-0.180836</td>\n",
       "      <td>-0.344488</td>\n",
       "      <td>0.142743</td>\n",
       "      <td>0.586552</td>\n",
       "      <td>-0.529712</td>\n",
       "      <td>-0.476248</td>\n",
       "      <td>25</td>\n",
       "      <td>LAYING</td>\n",
       "    </tr>\n",
       "    <tr>\n",
       "      <th>5145</th>\n",
       "      <td>0.362738</td>\n",
       "      <td>0.021304</td>\n",
       "      <td>-0.475139</td>\n",
       "      <td>-0.899308</td>\n",
       "      <td>-0.835325</td>\n",
       "      <td>-0.788868</td>\n",
       "      <td>-0.897895</td>\n",
       "      <td>-0.863483</td>\n",
       "      <td>-0.777296</td>\n",
       "      <td>-0.805650</td>\n",
       "      <td>...</td>\n",
       "      <td>-0.525541</td>\n",
       "      <td>0.084593</td>\n",
       "      <td>0.118643</td>\n",
       "      <td>0.023821</td>\n",
       "      <td>-0.385772</td>\n",
       "      <td>0.565836</td>\n",
       "      <td>-0.799503</td>\n",
       "      <td>-0.194921</td>\n",
       "      <td>25</td>\n",
       "      <td>LAYING</td>\n",
       "    </tr>\n",
       "    <tr>\n",
       "      <th>6015</th>\n",
       "      <td>0.279700</td>\n",
       "      <td>-0.004397</td>\n",
       "      <td>-0.109520</td>\n",
       "      <td>0.359081</td>\n",
       "      <td>0.119909</td>\n",
       "      <td>-0.177541</td>\n",
       "      <td>0.337963</td>\n",
       "      <td>0.066883</td>\n",
       "      <td>-0.221876</td>\n",
       "      <td>0.474093</td>\n",
       "      <td>...</td>\n",
       "      <td>-0.133106</td>\n",
       "      <td>0.049658</td>\n",
       "      <td>0.602595</td>\n",
       "      <td>0.681696</td>\n",
       "      <td>0.513330</td>\n",
       "      <td>-0.862824</td>\n",
       "      <td>0.190833</td>\n",
       "      <td>0.038933</td>\n",
       "      <td>27</td>\n",
       "      <td>WALKING_DOWNSTAIRS</td>\n",
       "    </tr>\n",
       "    <tr>\n",
       "      <th>7170</th>\n",
       "      <td>0.278465</td>\n",
       "      <td>0.049577</td>\n",
       "      <td>-0.078986</td>\n",
       "      <td>-0.893152</td>\n",
       "      <td>-0.826829</td>\n",
       "      <td>-0.923960</td>\n",
       "      <td>-0.945484</td>\n",
       "      <td>-0.801600</td>\n",
       "      <td>-0.926195</td>\n",
       "      <td>-0.709588</td>\n",
       "      <td>...</td>\n",
       "      <td>-0.597059</td>\n",
       "      <td>-0.014367</td>\n",
       "      <td>-0.812606</td>\n",
       "      <td>-0.805701</td>\n",
       "      <td>0.243491</td>\n",
       "      <td>-0.917932</td>\n",
       "      <td>0.092721</td>\n",
       "      <td>-0.043061</td>\n",
       "      <td>30</td>\n",
       "      <td>STANDING</td>\n",
       "    </tr>\n",
       "    <tr>\n",
       "      <th>2380</th>\n",
       "      <td>0.281960</td>\n",
       "      <td>-0.029525</td>\n",
       "      <td>0.002162</td>\n",
       "      <td>-0.300699</td>\n",
       "      <td>0.122331</td>\n",
       "      <td>0.611601</td>\n",
       "      <td>-0.336616</td>\n",
       "      <td>0.117050</td>\n",
       "      <td>0.596454</td>\n",
       "      <td>-0.124361</td>\n",
       "      <td>...</td>\n",
       "      <td>-0.882865</td>\n",
       "      <td>0.258418</td>\n",
       "      <td>-0.867018</td>\n",
       "      <td>0.973123</td>\n",
       "      <td>-0.397219</td>\n",
       "      <td>-0.404084</td>\n",
       "      <td>0.314413</td>\n",
       "      <td>0.369649</td>\n",
       "      <td>14</td>\n",
       "      <td>WALKING_UPSTAIRS</td>\n",
       "    </tr>\n",
       "    <tr>\n",
       "      <th>3394</th>\n",
       "      <td>0.199118</td>\n",
       "      <td>0.041223</td>\n",
       "      <td>-0.120062</td>\n",
       "      <td>-0.180991</td>\n",
       "      <td>-0.260253</td>\n",
       "      <td>-0.113017</td>\n",
       "      <td>-0.225105</td>\n",
       "      <td>-0.286955</td>\n",
       "      <td>-0.068529</td>\n",
       "      <td>-0.058097</td>\n",
       "      <td>...</td>\n",
       "      <td>-0.864901</td>\n",
       "      <td>0.360055</td>\n",
       "      <td>0.512898</td>\n",
       "      <td>0.952441</td>\n",
       "      <td>0.311913</td>\n",
       "      <td>-0.552304</td>\n",
       "      <td>0.215513</td>\n",
       "      <td>0.313384</td>\n",
       "      <td>17</td>\n",
       "      <td>WALKING_UPSTAIRS</td>\n",
       "    </tr>\n",
       "    <tr>\n",
       "      <th>6764</th>\n",
       "      <td>0.429600</td>\n",
       "      <td>-0.040108</td>\n",
       "      <td>0.036433</td>\n",
       "      <td>0.155879</td>\n",
       "      <td>-0.272094</td>\n",
       "      <td>-0.142732</td>\n",
       "      <td>0.077495</td>\n",
       "      <td>-0.304422</td>\n",
       "      <td>-0.108450</td>\n",
       "      <td>0.530378</td>\n",
       "      <td>...</td>\n",
       "      <td>-0.803191</td>\n",
       "      <td>-0.412177</td>\n",
       "      <td>0.547173</td>\n",
       "      <td>-0.940131</td>\n",
       "      <td>-0.055514</td>\n",
       "      <td>-0.914587</td>\n",
       "      <td>0.118339</td>\n",
       "      <td>-0.041268</td>\n",
       "      <td>29</td>\n",
       "      <td>WALKING_DOWNSTAIRS</td>\n",
       "    </tr>\n",
       "  </tbody>\n",
       "</table>\n",
       "<p>10 rows × 563 columns</p>\n",
       "</div>"
      ],
      "text/plain": [
       "      tBodyAcc-mean()-X  tBodyAcc-mean()-Y  tBodyAcc-mean()-Z  \\\n",
       "5635           0.348365           0.061673          -0.053334   \n",
       "3255           0.276647          -0.017646          -0.106592   \n",
       "5458           0.161610           0.001877          -0.088456   \n",
       "5375           0.205379          -0.080617           0.010700   \n",
       "5145           0.362738           0.021304          -0.475139   \n",
       "6015           0.279700          -0.004397          -0.109520   \n",
       "7170           0.278465           0.049577          -0.078986   \n",
       "2380           0.281960          -0.029525           0.002162   \n",
       "3394           0.199118           0.041223          -0.120062   \n",
       "6764           0.429600          -0.040108           0.036433   \n",
       "\n",
       "      tBodyAcc-std()-X  tBodyAcc-std()-Y  tBodyAcc-std()-Z  tBodyAcc-mad()-X  \\\n",
       "5635          0.127036         -0.271349         -0.250435          0.027827   \n",
       "3255         -0.995632         -0.989836         -0.996694         -0.996714   \n",
       "5458         -0.473340         -0.146694         -0.199407         -0.518846   \n",
       "5375         -0.954531         -0.825695         -0.812239         -0.955896   \n",
       "5145         -0.899308         -0.835325         -0.788868         -0.897895   \n",
       "6015          0.359081          0.119909         -0.177541          0.337963   \n",
       "7170         -0.893152         -0.826829         -0.923960         -0.945484   \n",
       "2380         -0.300699          0.122331          0.611601         -0.336616   \n",
       "3394         -0.180991         -0.260253         -0.113017         -0.225105   \n",
       "6764          0.155879         -0.272094         -0.142732          0.077495   \n",
       "\n",
       "      tBodyAcc-mad()-Y  tBodyAcc-mad()-Z  tBodyAcc-max()-X  ...  \\\n",
       "5635         -0.291141         -0.286538          0.438846  ...   \n",
       "3255         -0.988527         -0.996318         -0.940484  ...   \n",
       "5458         -0.192398         -0.128791         -0.284777  ...   \n",
       "5375         -0.819543         -0.807501         -0.925065  ...   \n",
       "5145         -0.863483         -0.777296         -0.805650  ...   \n",
       "6015          0.066883         -0.221876          0.474093  ...   \n",
       "7170         -0.801600         -0.926195         -0.709588  ...   \n",
       "2380          0.117050          0.596454         -0.124361  ...   \n",
       "3394         -0.286955         -0.068529         -0.058097  ...   \n",
       "6764         -0.304422         -0.108450          0.530378  ...   \n",
       "\n",
       "      fBodyBodyGyroJerkMag-kurtosis()  angle(tBodyAccMean,gravity)  \\\n",
       "5635                        -0.752914                    -0.179503   \n",
       "3255                        -0.947674                     0.298777   \n",
       "5458                        -0.792476                     0.826324   \n",
       "5375                        -0.741152                     0.022598   \n",
       "5145                        -0.525541                     0.084593   \n",
       "6015                        -0.133106                     0.049658   \n",
       "7170                        -0.597059                    -0.014367   \n",
       "2380                        -0.882865                     0.258418   \n",
       "3394                        -0.864901                     0.360055   \n",
       "6764                        -0.803191                    -0.412177   \n",
       "\n",
       "      angle(tBodyAccJerkMean),gravityMean)  angle(tBodyGyroMean,gravityMean)  \\\n",
       "5635                              0.714692                         -0.511509   \n",
       "3255                             -0.378397                          0.461111   \n",
       "5458                             -0.432949                         -0.907831   \n",
       "5375                             -0.180836                         -0.344488   \n",
       "5145                              0.118643                          0.023821   \n",
       "6015                              0.602595                          0.681696   \n",
       "7170                             -0.812606                         -0.805701   \n",
       "2380                             -0.867018                          0.973123   \n",
       "3394                              0.512898                          0.952441   \n",
       "6764                              0.547173                         -0.940131   \n",
       "\n",
       "      angle(tBodyGyroJerkMean,gravityMean)  angle(X,gravityMean)  \\\n",
       "5635                             -0.035491             -0.847839   \n",
       "3255                             -0.345491             -0.670536   \n",
       "5458                              0.131956             -0.787769   \n",
       "5375                              0.142743              0.586552   \n",
       "5145                             -0.385772              0.565836   \n",
       "6015                              0.513330             -0.862824   \n",
       "7170                              0.243491             -0.917932   \n",
       "2380                             -0.397219             -0.404084   \n",
       "3394                              0.311913             -0.552304   \n",
       "6764                             -0.055514             -0.914587   \n",
       "\n",
       "      angle(Y,gravityMean)  angle(Z,gravityMean)  subject            Activity  \n",
       "5635              0.151238             -0.077499       26  WALKING_DOWNSTAIRS  \n",
       "3255              0.218627              0.217504       17            STANDING  \n",
       "5458              0.244190              0.031887       25    WALKING_UPSTAIRS  \n",
       "5375             -0.529712             -0.476248       25              LAYING  \n",
       "5145             -0.799503             -0.194921       25              LAYING  \n",
       "6015              0.190833              0.038933       27  WALKING_DOWNSTAIRS  \n",
       "7170              0.092721             -0.043061       30            STANDING  \n",
       "2380              0.314413              0.369649       14    WALKING_UPSTAIRS  \n",
       "3394              0.215513              0.313384       17    WALKING_UPSTAIRS  \n",
       "6764              0.118339             -0.041268       29  WALKING_DOWNSTAIRS  \n",
       "\n",
       "[10 rows x 563 columns]"
      ]
     },
     "execution_count": 5,
     "metadata": {},
     "output_type": "execute_result"
    }
   ],
   "source": [
    "train.head(10)"
   ]
  },
  {
   "cell_type": "code",
   "execution_count": 6,
   "metadata": {
    "colab": {
     "base_uri": "https://localhost:8080/",
     "height": 380
    },
    "colab_type": "code",
    "executionInfo": {
     "elapsed": 1715,
     "status": "ok",
     "timestamp": 1588057606495,
     "user": {
      "displayName": "Junmo An",
      "photoUrl": "https://lh3.googleusercontent.com/a-/AOh14Gj5i3lgizGZ18Gjf053phbgFazmHzZTmG3QNyhO=s64",
      "userId": "01963327505044644290"
     },
     "user_tz": 300
    },
    "id": "1Z9RBHJOdCjU",
    "outputId": "417e93e7-f152-4abf-ce6e-e0b38c894826"
   },
   "outputs": [
    {
     "data": {
      "text/html": [
       "<div>\n",
       "<style scoped>\n",
       "    .dataframe tbody tr th:only-of-type {\n",
       "        vertical-align: middle;\n",
       "    }\n",
       "\n",
       "    .dataframe tbody tr th {\n",
       "        vertical-align: top;\n",
       "    }\n",
       "\n",
       "    .dataframe thead th {\n",
       "        text-align: right;\n",
       "    }\n",
       "</style>\n",
       "<table border=\"1\" class=\"dataframe\">\n",
       "  <thead>\n",
       "    <tr style=\"text-align: right;\">\n",
       "      <th></th>\n",
       "      <th>tBodyAcc-mean()-X</th>\n",
       "      <th>tBodyAcc-mean()-Y</th>\n",
       "      <th>tBodyAcc-mean()-Z</th>\n",
       "      <th>tBodyAcc-std()-X</th>\n",
       "      <th>tBodyAcc-std()-Y</th>\n",
       "      <th>tBodyAcc-std()-Z</th>\n",
       "      <th>tBodyAcc-mad()-X</th>\n",
       "      <th>tBodyAcc-mad()-Y</th>\n",
       "      <th>tBodyAcc-mad()-Z</th>\n",
       "      <th>tBodyAcc-max()-X</th>\n",
       "      <th>...</th>\n",
       "      <th>fBodyBodyGyroJerkMag-skewness()</th>\n",
       "      <th>fBodyBodyGyroJerkMag-kurtosis()</th>\n",
       "      <th>angle(tBodyAccMean,gravity)</th>\n",
       "      <th>angle(tBodyAccJerkMean),gravityMean)</th>\n",
       "      <th>angle(tBodyGyroMean,gravityMean)</th>\n",
       "      <th>angle(tBodyGyroJerkMean,gravityMean)</th>\n",
       "      <th>angle(X,gravityMean)</th>\n",
       "      <th>angle(Y,gravityMean)</th>\n",
       "      <th>angle(Z,gravityMean)</th>\n",
       "      <th>subject</th>\n",
       "    </tr>\n",
       "  </thead>\n",
       "  <tbody>\n",
       "    <tr>\n",
       "      <th>count</th>\n",
       "      <td>7352.000000</td>\n",
       "      <td>7352.000000</td>\n",
       "      <td>7352.000000</td>\n",
       "      <td>7352.000000</td>\n",
       "      <td>7352.000000</td>\n",
       "      <td>7352.000000</td>\n",
       "      <td>7352.000000</td>\n",
       "      <td>7352.000000</td>\n",
       "      <td>7352.000000</td>\n",
       "      <td>7352.000000</td>\n",
       "      <td>...</td>\n",
       "      <td>7352.000000</td>\n",
       "      <td>7352.000000</td>\n",
       "      <td>7352.000000</td>\n",
       "      <td>7352.000000</td>\n",
       "      <td>7352.000000</td>\n",
       "      <td>7352.000000</td>\n",
       "      <td>7352.000000</td>\n",
       "      <td>7352.000000</td>\n",
       "      <td>7352.000000</td>\n",
       "      <td>7352.000000</td>\n",
       "    </tr>\n",
       "    <tr>\n",
       "      <th>mean</th>\n",
       "      <td>0.274488</td>\n",
       "      <td>-0.017695</td>\n",
       "      <td>-0.109141</td>\n",
       "      <td>-0.605438</td>\n",
       "      <td>-0.510938</td>\n",
       "      <td>-0.604754</td>\n",
       "      <td>-0.630512</td>\n",
       "      <td>-0.526907</td>\n",
       "      <td>-0.606150</td>\n",
       "      <td>-0.468604</td>\n",
       "      <td>...</td>\n",
       "      <td>-0.307009</td>\n",
       "      <td>-0.625294</td>\n",
       "      <td>0.008684</td>\n",
       "      <td>0.002186</td>\n",
       "      <td>0.008726</td>\n",
       "      <td>-0.005981</td>\n",
       "      <td>-0.489547</td>\n",
       "      <td>0.058593</td>\n",
       "      <td>-0.056515</td>\n",
       "      <td>17.413085</td>\n",
       "    </tr>\n",
       "    <tr>\n",
       "      <th>std</th>\n",
       "      <td>0.070261</td>\n",
       "      <td>0.040811</td>\n",
       "      <td>0.056635</td>\n",
       "      <td>0.448734</td>\n",
       "      <td>0.502645</td>\n",
       "      <td>0.418687</td>\n",
       "      <td>0.424073</td>\n",
       "      <td>0.485942</td>\n",
       "      <td>0.414122</td>\n",
       "      <td>0.544547</td>\n",
       "      <td>...</td>\n",
       "      <td>0.321011</td>\n",
       "      <td>0.307584</td>\n",
       "      <td>0.336787</td>\n",
       "      <td>0.448306</td>\n",
       "      <td>0.608303</td>\n",
       "      <td>0.477975</td>\n",
       "      <td>0.511807</td>\n",
       "      <td>0.297480</td>\n",
       "      <td>0.279122</td>\n",
       "      <td>8.975143</td>\n",
       "    </tr>\n",
       "    <tr>\n",
       "      <th>min</th>\n",
       "      <td>-1.000000</td>\n",
       "      <td>-1.000000</td>\n",
       "      <td>-1.000000</td>\n",
       "      <td>-1.000000</td>\n",
       "      <td>-0.999873</td>\n",
       "      <td>-1.000000</td>\n",
       "      <td>-1.000000</td>\n",
       "      <td>-1.000000</td>\n",
       "      <td>-1.000000</td>\n",
       "      <td>-1.000000</td>\n",
       "      <td>...</td>\n",
       "      <td>-0.995357</td>\n",
       "      <td>-0.999765</td>\n",
       "      <td>-0.976580</td>\n",
       "      <td>-1.000000</td>\n",
       "      <td>-1.000000</td>\n",
       "      <td>-1.000000</td>\n",
       "      <td>-1.000000</td>\n",
       "      <td>-1.000000</td>\n",
       "      <td>-1.000000</td>\n",
       "      <td>1.000000</td>\n",
       "    </tr>\n",
       "    <tr>\n",
       "      <th>25%</th>\n",
       "      <td>0.262975</td>\n",
       "      <td>-0.024863</td>\n",
       "      <td>-0.120993</td>\n",
       "      <td>-0.992754</td>\n",
       "      <td>-0.978129</td>\n",
       "      <td>-0.980233</td>\n",
       "      <td>-0.993591</td>\n",
       "      <td>-0.978162</td>\n",
       "      <td>-0.980251</td>\n",
       "      <td>-0.936219</td>\n",
       "      <td>...</td>\n",
       "      <td>-0.542602</td>\n",
       "      <td>-0.845573</td>\n",
       "      <td>-0.121527</td>\n",
       "      <td>-0.289549</td>\n",
       "      <td>-0.482273</td>\n",
       "      <td>-0.376341</td>\n",
       "      <td>-0.812065</td>\n",
       "      <td>-0.017885</td>\n",
       "      <td>-0.143414</td>\n",
       "      <td>8.000000</td>\n",
       "    </tr>\n",
       "    <tr>\n",
       "      <th>50%</th>\n",
       "      <td>0.277193</td>\n",
       "      <td>-0.017219</td>\n",
       "      <td>-0.108676</td>\n",
       "      <td>-0.946196</td>\n",
       "      <td>-0.851897</td>\n",
       "      <td>-0.859365</td>\n",
       "      <td>-0.950709</td>\n",
       "      <td>-0.857328</td>\n",
       "      <td>-0.857143</td>\n",
       "      <td>-0.881637</td>\n",
       "      <td>...</td>\n",
       "      <td>-0.343685</td>\n",
       "      <td>-0.711692</td>\n",
       "      <td>0.009509</td>\n",
       "      <td>0.008943</td>\n",
       "      <td>0.008735</td>\n",
       "      <td>-0.000368</td>\n",
       "      <td>-0.709417</td>\n",
       "      <td>0.182071</td>\n",
       "      <td>0.003181</td>\n",
       "      <td>19.000000</td>\n",
       "    </tr>\n",
       "    <tr>\n",
       "      <th>75%</th>\n",
       "      <td>0.288461</td>\n",
       "      <td>-0.010783</td>\n",
       "      <td>-0.097794</td>\n",
       "      <td>-0.242813</td>\n",
       "      <td>-0.034231</td>\n",
       "      <td>-0.262415</td>\n",
       "      <td>-0.292680</td>\n",
       "      <td>-0.066701</td>\n",
       "      <td>-0.265671</td>\n",
       "      <td>-0.017129</td>\n",
       "      <td>...</td>\n",
       "      <td>-0.126979</td>\n",
       "      <td>-0.503878</td>\n",
       "      <td>0.150865</td>\n",
       "      <td>0.292861</td>\n",
       "      <td>0.506187</td>\n",
       "      <td>0.359368</td>\n",
       "      <td>-0.509079</td>\n",
       "      <td>0.248353</td>\n",
       "      <td>0.107659</td>\n",
       "      <td>26.000000</td>\n",
       "    </tr>\n",
       "    <tr>\n",
       "      <th>max</th>\n",
       "      <td>1.000000</td>\n",
       "      <td>1.000000</td>\n",
       "      <td>1.000000</td>\n",
       "      <td>1.000000</td>\n",
       "      <td>0.916238</td>\n",
       "      <td>1.000000</td>\n",
       "      <td>1.000000</td>\n",
       "      <td>0.967664</td>\n",
       "      <td>1.000000</td>\n",
       "      <td>1.000000</td>\n",
       "      <td>...</td>\n",
       "      <td>0.989538</td>\n",
       "      <td>0.956845</td>\n",
       "      <td>1.000000</td>\n",
       "      <td>1.000000</td>\n",
       "      <td>0.998702</td>\n",
       "      <td>0.996078</td>\n",
       "      <td>1.000000</td>\n",
       "      <td>0.478157</td>\n",
       "      <td>1.000000</td>\n",
       "      <td>30.000000</td>\n",
       "    </tr>\n",
       "  </tbody>\n",
       "</table>\n",
       "<p>8 rows × 562 columns</p>\n",
       "</div>"
      ],
      "text/plain": [
       "       tBodyAcc-mean()-X  tBodyAcc-mean()-Y  tBodyAcc-mean()-Z  \\\n",
       "count        7352.000000        7352.000000        7352.000000   \n",
       "mean            0.274488          -0.017695          -0.109141   \n",
       "std             0.070261           0.040811           0.056635   \n",
       "min            -1.000000          -1.000000          -1.000000   \n",
       "25%             0.262975          -0.024863          -0.120993   \n",
       "50%             0.277193          -0.017219          -0.108676   \n",
       "75%             0.288461          -0.010783          -0.097794   \n",
       "max             1.000000           1.000000           1.000000   \n",
       "\n",
       "       tBodyAcc-std()-X  tBodyAcc-std()-Y  tBodyAcc-std()-Z  tBodyAcc-mad()-X  \\\n",
       "count       7352.000000       7352.000000       7352.000000       7352.000000   \n",
       "mean          -0.605438         -0.510938         -0.604754         -0.630512   \n",
       "std            0.448734          0.502645          0.418687          0.424073   \n",
       "min           -1.000000         -0.999873         -1.000000         -1.000000   \n",
       "25%           -0.992754         -0.978129         -0.980233         -0.993591   \n",
       "50%           -0.946196         -0.851897         -0.859365         -0.950709   \n",
       "75%           -0.242813         -0.034231         -0.262415         -0.292680   \n",
       "max            1.000000          0.916238          1.000000          1.000000   \n",
       "\n",
       "       tBodyAcc-mad()-Y  tBodyAcc-mad()-Z  tBodyAcc-max()-X  ...  \\\n",
       "count       7352.000000       7352.000000       7352.000000  ...   \n",
       "mean          -0.526907         -0.606150         -0.468604  ...   \n",
       "std            0.485942          0.414122          0.544547  ...   \n",
       "min           -1.000000         -1.000000         -1.000000  ...   \n",
       "25%           -0.978162         -0.980251         -0.936219  ...   \n",
       "50%           -0.857328         -0.857143         -0.881637  ...   \n",
       "75%           -0.066701         -0.265671         -0.017129  ...   \n",
       "max            0.967664          1.000000          1.000000  ...   \n",
       "\n",
       "       fBodyBodyGyroJerkMag-skewness()  fBodyBodyGyroJerkMag-kurtosis()  \\\n",
       "count                      7352.000000                      7352.000000   \n",
       "mean                         -0.307009                        -0.625294   \n",
       "std                           0.321011                         0.307584   \n",
       "min                          -0.995357                        -0.999765   \n",
       "25%                          -0.542602                        -0.845573   \n",
       "50%                          -0.343685                        -0.711692   \n",
       "75%                          -0.126979                        -0.503878   \n",
       "max                           0.989538                         0.956845   \n",
       "\n",
       "       angle(tBodyAccMean,gravity)  angle(tBodyAccJerkMean),gravityMean)  \\\n",
       "count                  7352.000000                           7352.000000   \n",
       "mean                      0.008684                              0.002186   \n",
       "std                       0.336787                              0.448306   \n",
       "min                      -0.976580                             -1.000000   \n",
       "25%                      -0.121527                             -0.289549   \n",
       "50%                       0.009509                              0.008943   \n",
       "75%                       0.150865                              0.292861   \n",
       "max                       1.000000                              1.000000   \n",
       "\n",
       "       angle(tBodyGyroMean,gravityMean)  angle(tBodyGyroJerkMean,gravityMean)  \\\n",
       "count                       7352.000000                           7352.000000   \n",
       "mean                           0.008726                             -0.005981   \n",
       "std                            0.608303                              0.477975   \n",
       "min                           -1.000000                             -1.000000   \n",
       "25%                           -0.482273                             -0.376341   \n",
       "50%                            0.008735                             -0.000368   \n",
       "75%                            0.506187                              0.359368   \n",
       "max                            0.998702                              0.996078   \n",
       "\n",
       "       angle(X,gravityMean)  angle(Y,gravityMean)  angle(Z,gravityMean)  \\\n",
       "count           7352.000000           7352.000000           7352.000000   \n",
       "mean              -0.489547              0.058593             -0.056515   \n",
       "std                0.511807              0.297480              0.279122   \n",
       "min               -1.000000             -1.000000             -1.000000   \n",
       "25%               -0.812065             -0.017885             -0.143414   \n",
       "50%               -0.709417              0.182071              0.003181   \n",
       "75%               -0.509079              0.248353              0.107659   \n",
       "max                1.000000              0.478157              1.000000   \n",
       "\n",
       "           subject  \n",
       "count  7352.000000  \n",
       "mean     17.413085  \n",
       "std       8.975143  \n",
       "min       1.000000  \n",
       "25%       8.000000  \n",
       "50%      19.000000  \n",
       "75%      26.000000  \n",
       "max      30.000000  \n",
       "\n",
       "[8 rows x 562 columns]"
      ]
     },
     "execution_count": 6,
     "metadata": {},
     "output_type": "execute_result"
    }
   ],
   "source": [
    "train.describe()"
   ]
  },
  {
   "cell_type": "code",
   "execution_count": 7,
   "metadata": {
    "colab": {
     "base_uri": "https://localhost:8080/",
     "height": 51
    },
    "colab_type": "code",
    "executionInfo": {
     "elapsed": 258,
     "status": "ok",
     "timestamp": 1588054904572,
     "user": {
      "displayName": "Junmo An",
      "photoUrl": "https://lh3.googleusercontent.com/a-/AOh14Gj5i3lgizGZ18Gjf053phbgFazmHzZTmG3QNyhO=s64",
      "userId": "01963327505044644290"
     },
     "user_tz": 300
    },
    "id": "_c2t7TGrbCex",
    "outputId": "2f302b26-2c14-48c8-9ff6-eecdabb10544"
   },
   "outputs": [
    {
     "name": "stdout",
     "output_type": "stream",
     "text": [
      "Missing values in the training set: False\n",
      "Missing values in the test set: False\n"
     ]
    }
   ],
   "source": [
    "# Try to find the missing values.\n",
    "print(\"Missing values in the training set:\", train.isnull().values.any())\n",
    "print(\"Missing values in the test set:\", test.isnull().values.any())"
   ]
  },
  {
   "cell_type": "code",
   "execution_count": 8,
   "metadata": {
    "colab": {
     "base_uri": "https://localhost:8080/",
     "height": 266
    },
    "colab_type": "code",
    "executionInfo": {
     "elapsed": 281,
     "status": "ok",
     "timestamp": 1588055153258,
     "user": {
      "displayName": "Junmo An",
      "photoUrl": "https://lh3.googleusercontent.com/a-/AOh14Gj5i3lgizGZ18Gjf053phbgFazmHzZTmG3QNyhO=s64",
      "userId": "01963327505044644290"
     },
     "user_tz": 300
    },
    "id": "YRzNMRl9cQH9",
    "outputId": "ea064cbb-7796-4954-cf19-2a29ba2564d0"
   },
   "outputs": [
    {
     "data": {
      "text/html": [
       "<div>\n",
       "<style scoped>\n",
       "    .dataframe tbody tr th:only-of-type {\n",
       "        vertical-align: middle;\n",
       "    }\n",
       "\n",
       "    .dataframe tbody tr th {\n",
       "        vertical-align: top;\n",
       "    }\n",
       "\n",
       "    .dataframe thead th {\n",
       "        text-align: right;\n",
       "    }\n",
       "</style>\n",
       "<table border=\"1\" class=\"dataframe\">\n",
       "  <thead>\n",
       "    <tr style=\"text-align: right;\">\n",
       "      <th>col_0</th>\n",
       "      <th>count</th>\n",
       "    </tr>\n",
       "    <tr>\n",
       "      <th>Activity</th>\n",
       "      <th></th>\n",
       "    </tr>\n",
       "  </thead>\n",
       "  <tbody>\n",
       "    <tr>\n",
       "      <th>LAYING</th>\n",
       "      <td>1407</td>\n",
       "    </tr>\n",
       "    <tr>\n",
       "      <th>SITTING</th>\n",
       "      <td>1286</td>\n",
       "    </tr>\n",
       "    <tr>\n",
       "      <th>STANDING</th>\n",
       "      <td>1374</td>\n",
       "    </tr>\n",
       "    <tr>\n",
       "      <th>WALKING</th>\n",
       "      <td>1226</td>\n",
       "    </tr>\n",
       "    <tr>\n",
       "      <th>WALKING_DOWNSTAIRS</th>\n",
       "      <td>986</td>\n",
       "    </tr>\n",
       "    <tr>\n",
       "      <th>WALKING_UPSTAIRS</th>\n",
       "      <td>1073</td>\n",
       "    </tr>\n",
       "  </tbody>\n",
       "</table>\n",
       "</div>"
      ],
      "text/plain": [
       "col_0               count\n",
       "Activity                 \n",
       "LAYING               1407\n",
       "SITTING              1286\n",
       "STANDING             1374\n",
       "WALKING              1226\n",
       "WALKING_DOWNSTAIRS    986\n",
       "WALKING_UPSTAIRS     1073"
      ]
     },
     "execution_count": 8,
     "metadata": {},
     "output_type": "execute_result"
    }
   ],
   "source": [
    "# Count up frequency distribution of classes.\n",
    "train_outcome = pd.crosstab(index=train[\"Activity\"], columns=\"count\")\n",
    "train_outcome"
   ]
  },
  {
   "cell_type": "code",
   "execution_count": 9,
   "metadata": {
    "colab": {
     "base_uri": "https://localhost:8080/",
     "height": 411
    },
    "colab_type": "code",
    "executionInfo": {
     "elapsed": 473,
     "status": "ok",
     "timestamp": 1588056623149,
     "user": {
      "displayName": "Junmo An",
      "photoUrl": "https://lh3.googleusercontent.com/a-/AOh14Gj5i3lgizGZ18Gjf053phbgFazmHzZTmG3QNyhO=s64",
      "userId": "01963327505044644290"
     },
     "user_tz": 300
    },
    "id": "U1V69UPudPe0",
    "outputId": "07127aba-d803-42b7-dc08-df89d5b530db"
   },
   "outputs": [
    {
     "data": {
      "image/png": "[encoded data removed]",
      "text/plain": [
       "<Figure size 504x504 with 1 Axes>"
      ]
     },
     "metadata": {},
     "output_type": "display_data"
    }
   ],
   "source": [
    "# Visualize frequency distribution of classes.\n",
    "temp = train[\"Activity\"].value_counts()\n",
    "df = pd.DataFrame({'labels': temp.index, 'values': temp.values})\n",
    "labels = df['labels']\n",
    "sizes = df['values']\n",
    "plt.figure(figsize=(7,7))\n",
    "plt.pie(sizes, labels=labels, autopct='%1.2f%%')\n",
    "plt.show()"
   ]
  },
  {
   "cell_type": "code",
   "execution_count": 10,
   "metadata": {
    "colab": {
     "base_uri": "https://localhost:8080/",
     "height": 34
    },
    "colab_type": "code",
    "executionInfo": {
     "elapsed": 332,
     "status": "ok",
     "timestamp": 1588057280879,
     "user": {
      "displayName": "Junmo An",
      "photoUrl": "https://lh3.googleusercontent.com/a-/AOh14Gj5i3lgizGZ18Gjf053phbgFazmHzZTmG3QNyhO=s64",
      "userId": "01963327505044644290"
     },
     "user_tz": 300
    },
    "id": "n3XF3fITeB8h",
    "outputId": "8da6e599-84dc-4eab-8507-3a886dd2505f"
   },
   "outputs": [
    {
     "name": "stdout",
     "output_type": "stream",
     "text": [
      "(7352, 561) (2947, 561) (7352,) (2947,)\n"
     ]
    }
   ],
   "source": [
    "# Split the dataset into the training set and test subsets.\n",
    "X_train = pd.DataFrame(train.drop(['Activity','subject'], axis=1))\n",
    "y_train = train.Activity.values.astype(object)\n",
    "X_test = pd.DataFrame(test.drop(['Activity','subject'], axis=1))\n",
    "y_test = test.Activity.values.astype(object)\n",
    "print(X_train.shape, X_test.shape, y_train.shape, y_test.shape)"
   ]
  },
  {
   "cell_type": "code",
   "execution_count": 11,
   "metadata": {
    "colab": {
     "base_uri": "https://localhost:8080/",
     "height": 85
    },
    "colab_type": "code",
    "executionInfo": {
     "elapsed": 260,
     "status": "ok",
     "timestamp": 1588057282134,
     "user": {
      "displayName": "Junmo An",
      "photoUrl": "https://lh3.googleusercontent.com/a-/AOh14Gj5i3lgizGZ18Gjf053phbgFazmHzZTmG3QNyhO=s64",
      "userId": "01963327505044644290"
     },
     "user_tz": 300
    },
    "id": "nw9hosb6klKe",
    "outputId": "c4ccc9cd-0b18-4be0-b836-07464fec0773"
   },
   "outputs": [
    {
     "name": "stdout",
     "output_type": "stream",
     "text": [
      "['WALKING_DOWNSTAIRS' 'STANDING' 'WALKING_UPSTAIRS' 'LAYING' 'LAYING'\n",
      " 'WALKING_DOWNSTAIRS' 'STANDING' 'WALKING_UPSTAIRS' 'WALKING_UPSTAIRS'\n",
      " 'WALKING_DOWNSTAIRS' 'LAYING' 'SITTING' 'WALKING_UPSTAIRS' 'STANDING'\n",
      " 'STANDING' 'SITTING' 'WALKING_UPSTAIRS' 'WALKING_DOWNSTAIRS' 'STANDING'\n",
      " 'SITTING']\n"
     ]
    }
   ],
   "source": [
    "print(y_train[:20])"
   ]
  },
  {
   "cell_type": "code",
   "execution_count": 12,
   "metadata": {
    "colab": {},
    "colab_type": "code",
    "id": "jBWGF_3Hje-U"
   },
   "outputs": [],
   "source": [
    "from sklearn import preprocessing\n",
    "\n",
    "# Encode target labels with value between 0 and n_classes-1.\n",
    "encoder = preprocessing.LabelEncoder()\n",
    "\n",
    "# Fit label encoder and return encoded labels.\n",
    "encoder.fit(y_train)\n",
    "y_train = encoder.transform(y_train)\n",
    "\n",
    "# Fit label encoder and return encoded labels.\n",
    "encoder.fit(y_test)\n",
    "y_test = encoder.transform(y_test)"
   ]
  },
  {
   "cell_type": "code",
   "execution_count": 13,
   "metadata": {
    "colab": {
     "base_uri": "https://localhost:8080/",
     "height": 34
    },
    "colab_type": "code",
    "executionInfo": {
     "elapsed": 268,
     "status": "ok",
     "timestamp": 1588057287447,
     "user": {
      "displayName": "Junmo An",
      "photoUrl": "https://lh3.googleusercontent.com/a-/AOh14Gj5i3lgizGZ18Gjf053phbgFazmHzZTmG3QNyhO=s64",
      "userId": "01963327505044644290"
     },
     "user_tz": 300
    },
    "id": "4V8vQVKRllse",
    "outputId": "c640dd87-9603-430d-ddf0-6c3c204145da"
   },
   "outputs": [
    {
     "name": "stdout",
     "output_type": "stream",
     "text": [
      "[4 2 5 0 0 4 2 5 5 4 0 1 5 2 2 1 5 4 2 1]\n"
     ]
    }
   ],
   "source": [
    "print(y_train[:20])"
   ]
  },
  {
   "cell_type": "code",
   "execution_count": 14,
   "metadata": {
    "colab": {
     "base_uri": "https://localhost:8080/",
     "height": 34
    },
    "colab_type": "code",
    "executionInfo": {
     "elapsed": 284,
     "status": "ok",
     "timestamp": 1588057673574,
     "user": {
      "displayName": "Junmo An",
      "photoUrl": "https://lh3.googleusercontent.com/a-/AOh14Gj5i3lgizGZ18Gjf053phbgFazmHzZTmG3QNyhO=s64",
      "userId": "01963327505044644290"
     },
     "user_tz": 300
    },
    "id": "GbBVY8zLlNOq",
    "outputId": "a1c17a61-5151-499a-fd89-b718308b6dc5"
   },
   "outputs": [
    {
     "name": "stdout",
     "output_type": "stream",
     "text": [
      "Number of features: 561\n"
     ]
    }
   ],
   "source": [
    "num_cols = X_train._get_numeric_data().columns\n",
    "names_of_predictors = list(X_train.columns.values)\n",
    "print(\"Number of features:\", num_cols.size)"
   ]
  },
  {
   "cell_type": "code",
   "execution_count": 15,
   "metadata": {
    "colab": {},
    "colab_type": "code",
    "id": "wXwZEBRwmsyp"
   },
   "outputs": [],
   "source": [
    "# Standardize features by removing the mean and scaling to unit variance.\n",
    "from sklearn.preprocessing import StandardScaler\n",
    "scaler = StandardScaler()\n",
    "X_train_scaled = scaler.fit_transform(X_train)\n",
    "X_test_scaled = scaler.transform(X_test)"
   ]
  },
  {
   "cell_type": "code",
   "execution_count": 16,
   "metadata": {
    "colab": {
     "base_uri": "https://localhost:8080/",
     "height": 1000
    },
    "colab_type": "code",
    "executionInfo": {
     "elapsed": 268,
     "status": "ok",
     "timestamp": 1588058043552,
     "user": {
      "displayName": "Junmo An",
      "photoUrl": "https://lh3.googleusercontent.com/a-/AOh14Gj5i3lgizGZ18Gjf053phbgFazmHzZTmG3QNyhO=s64",
      "userId": "01963327505044644290"
     },
     "user_tz": 300
    },
    "id": "hmceIEj0oaeM",
    "outputId": "eeda1915-6b39-467b-ee50-bb65a331d39b"
   },
   "outputs": [
    {
     "name": "stdout",
     "output_type": "stream",
     "text": [
      "[[ 1.05153385e+00  1.94493463e+00  9.85451251e-01  1.63242387e+00\n",
      "   4.76687466e-01  8.46320485e-01  1.55252605e+00  4.85207626e-01\n",
      "   7.71835188e-01  1.66654624e+00  6.80424658e-01  1.61950331e+00\n",
      "  -1.40487865e+00 -3.20735297e-01 -1.10993463e+00  1.12864776e+00\n",
      "   1.75885538e+00  1.30854058e-01  4.72012868e-01  1.03559781e+00\n",
      "   3.87505620e-01  7.16596428e-01  1.45726436e-01  1.52282229e+00\n",
      "   1.24543158e+00 -1.09470436e+00  7.68682219e-01 -5.39207194e-01\n",
      "   7.98800649e-01 -9.75168459e-01  1.13578627e+00 -5.30973632e-01\n",
      "  -3.21080073e-01 -6.63235497e-01  9.66529139e-01  1.98307485e-01\n",
      "  -5.61367481e-01 -2.67300822e-01  1.20836477e+00 -3.35280311e-01\n",
      "   5.18292692e-01 -2.90119063e-01  1.30202344e-01  2.47315526e-01\n",
      "   1.60465605e+00  7.44136077e-02  1.51107105e-01  1.67796536e+00\n",
      "   2.66191470e-03  5.52471378e-01 -1.75891965e-01  1.33615770e-01\n",
      "   5.03857732e-01 -3.90728811e-01  1.10800380e-01 -1.03000924e+00\n",
      "   5.45516948e-01 -5.83599752e-01 -5.04180241e-01 -4.17508144e-02\n",
      "   1.78908701e+00 -1.20897070e-01  1.12469314e+00 -4.65036607e-01\n",
      "   1.50304003e+00 -7.87981088e-01  9.11959538e-01 -1.02346463e+00\n",
      "   1.11543494e+00  1.95652631e-01 -1.22988477e-01  3.40335514e-02\n",
      "   6.80933124e-02  1.19813378e+00 -1.15968090e+00  1.10606360e+00\n",
      "  -1.03718310e+00 -1.15134645e+00 -7.55508772e-01  1.16694984e+00\n",
      "  -8.60710186e-01 -2.07533334e-01 -9.61096701e-01  1.27846192e+00\n",
      "   6.26337852e-01  1.42472162e+00  1.19273060e+00  4.42448075e-01\n",
      "   1.35229974e+00  1.44223931e+00  9.32668674e-01  1.26265955e+00\n",
      "  -7.75952061e-01 -3.09412656e-01 -1.13954876e+00  1.02387483e+00\n",
      "   1.10774113e+00  2.11301245e-01  1.13295874e+00  1.14410142e+00\n",
      "   1.73340733e-01  1.37525689e+00  9.46149994e-01  7.39164060e-01\n",
      "   1.07907491e+00 -1.40152904e+00  2.90265296e-01 -1.88861999e+00\n",
      "   9.96797359e-01 -8.97732953e-01  8.01555755e-01  8.50156950e-02\n",
      "  -6.38809965e-01 -6.96405101e-01  8.74446136e-01 -8.99679673e-03\n",
      "   9.96606965e-01  6.46186209e-01  8.11203536e-01 -1.06845583e+00\n",
      "   1.79716137e-01  2.31747996e-01 -3.33675613e-01  5.91873845e-01\n",
      "   4.61807257e-01  7.88122894e-01  5.46586181e-01  3.46891726e-01\n",
      "   8.31825032e-01  7.53696518e-01  1.32571507e+00  1.14994122e+00\n",
      "  -1.10907981e+00 -3.53815507e-01 -9.52394413e-01  4.82311750e-01\n",
      "  -1.36036964e-02 -5.43370191e-03  3.22978875e-01  4.88787072e-01\n",
      "   3.14006137e-01  9.47042361e-01  7.92087193e-01  1.14758429e+00\n",
      "   4.56126364e-01 -6.78013742e-01  1.41554489e+00 -1.15188675e+00\n",
      "   2.86926141e-01  6.52783408e-01 -1.50930421e-01  9.61650605e-01\n",
      "  -3.86872371e-01 -1.20398852e+00  1.30130991e+00 -3.79172931e-01\n",
      "  -8.25371020e-01 -4.44421357e-01  1.10672029e+00 -8.08894324e-01\n",
      "  -2.74524054e-02  1.83285890e-01  7.53262594e-01  1.62052346e+00\n",
      "   9.24744114e-01  1.24692723e+00  1.43152215e+00  8.40022956e-01\n",
      "   1.08045455e+00  2.16012470e+00  1.37147480e+00  1.05380163e+00\n",
      "  -2.28621164e+00 -1.41373047e+00 -1.76593042e+00  1.11766711e+00\n",
      "   1.53110219e+00  3.53961304e-01  9.09712336e-01  1.26130097e+00\n",
      "   8.42537865e-01  6.56655126e-01  1.27205703e+00  9.24730420e-01\n",
      "   1.16379258e+00 -9.36835476e-01  1.69624738e+00 -1.72143573e-01\n",
      "  -2.62660815e-01  2.45312916e-01  9.56846918e-02  8.17229050e-01\n",
      "   9.21166805e-01 -1.08100663e+00  1.04704146e+00  3.82783496e-01\n",
      "  -4.78445931e-01 -1.23206244e+00  1.91890563e+00 -1.52785613e+00\n",
      "   1.16590835e+00  1.79368861e+00  1.68281152e+00  1.44944274e+00\n",
      "   1.72347185e-01  1.16590835e+00  1.29975935e+00  9.10942445e-01\n",
      "   1.02832317e+00 -1.41422161e+00  1.14392946e+00  2.82231636e-01\n",
      "  -3.66749797e-01  1.16590835e+00  1.79368861e+00  1.68281152e+00\n",
      "   1.44944274e+00  1.72347185e-01  1.16590835e+00  1.29975935e+00\n",
      "   9.10942445e-01  1.02832317e+00 -1.41422161e+00  1.14392946e+00\n",
      "   2.82231636e-01 -3.66749797e-01  1.05030438e+00  1.35527329e+00\n",
      "   1.37644771e+00  9.07496871e-01 -1.59287820e-01  1.05030438e+00\n",
      "   9.30971181e-01  1.27365972e+00  1.13515493e+00 -7.83775853e-01\n",
      "  -3.29076671e-01 -1.62061392e-01  1.82411774e+00  4.05162954e-01\n",
      "   7.22780419e-01  5.52278406e-01  1.23518116e+00  6.08302326e-01\n",
      "   4.05162954e-01  5.46783563e-02  4.34999768e-01  1.32330069e+00\n",
      "   2.74635545e-01 -4.61264617e-02 -5.46923798e-01  7.41507311e-01\n",
      "   1.04509583e+00  1.40186820e+00  1.34340178e+00  1.70843646e+00\n",
      "   1.75887713e-01  1.04509583e+00  7.32633899e-01  1.29062726e+00\n",
      "   1.13020727e+00 -1.69210503e+00  1.54934455e+00 -1.98919957e+00\n",
      "   2.08839756e+00  1.45711677e+00  5.86218319e-01  1.14277619e+00\n",
      "   1.68886911e+00  4.20462081e-01  6.96562532e-01  1.78512514e+00\n",
      "   6.32540085e-01  1.09799536e+00  1.61516497e+00 -1.31102277e-02\n",
      "   2.57319814e-01 -7.83719787e-02 -6.34927961e-01  1.77454941e+00\n",
      "   1.14334498e+00  1.76390411e+00  7.04509868e-02  4.89053694e-01\n",
      "   1.37736220e+00  1.03591789e+00  1.72828856e+00  1.19641904e+00\n",
      "   9.65210458e-01  1.29288897e+00 -1.54918163e-01 -2.85532239e-01\n",
      "  -3.25569873e-01 -1.41879842e+00 -4.59248961e-01  4.18126313e-01\n",
      "   2.58129160e-01  9.11754679e-02 -1.01689927e+00 -8.89018015e-01\n",
      "  -1.05289781e+00 -9.66929080e-01  1.99803869e+00  9.20506071e-01\n",
      "   4.47464558e-01  9.67202239e-02  4.99221740e-01  6.81021574e-01\n",
      "  -1.09852896e-01 -1.28276280e-01  1.84852668e+00  3.86081511e-01\n",
      "   5.90531029e-01 -1.20458857e-01  1.79649321e+00  2.80839461e-01\n",
      "   5.03176970e-02  1.06944810e-02  2.70037530e-01  2.77404165e-01\n",
      "  -1.97303983e-01 -1.25655185e-01 -2.55937709e-01 -3.63495815e-01\n",
      "   3.87477045e-02  2.81324670e-01 -1.78530931e-01 -3.07457597e-01\n",
      "   6.88152104e-02  1.26599924e-01 -2.45896217e-03  8.14414762e-01\n",
      "   2.07023153e+00  5.47712359e-01  2.81131877e-01  6.70119431e-01\n",
      "   7.52563557e-01  2.61594418e-01  2.10071280e-01  1.77495920e+00\n",
      "   4.24120477e-01  6.38016617e-01  4.74602553e-01  5.24995297e-01\n",
      "   1.21087156e+00  6.23141071e-01  1.31314835e+00  1.34812229e+00\n",
      "   6.31096964e-01  1.54996600e+00  1.46054005e+00  6.84325006e-01\n",
      "   1.37078482e+00  1.10067871e+00  4.98610375e-01  1.98582047e+00\n",
      "  -5.99155662e-01 -5.41793856e-01  1.01521630e+00  1.08193178e+00\n",
      "   1.10847092e+00  2.11659309e-01  1.13324368e+00  1.29387007e+00\n",
      "   6.90754344e-01  1.09424514e+00  1.31270414e+00  9.66300023e-01\n",
      "   1.29344474e+00 -1.40171188e+00 -1.53668020e-01 -9.92308058e-02\n",
      "  -1.84911388e+00 -9.81621123e-01 -7.67061887e-01  1.14870429e-01\n",
      "  -2.14289772e-01 -5.11286872e-02 -2.57656584e-01  2.09205991e+00\n",
      "   2.21051640e+00  2.25035860e+00  8.95401421e-01  3.56843142e-01\n",
      "   2.32155126e-01  8.32002490e-01  8.22515931e-01 -8.17473862e-02\n",
      "  -2.73562603e-01  1.61771668e+00  3.31685917e-01  8.62234687e-01\n",
      "  -1.05600266e-01  1.27243862e+00  5.33588795e-01  2.42993197e-01\n",
      "   1.21514265e-01  2.97198952e-01  3.34403077e-01 -9.28093720e-02\n",
      "  -4.05938299e-02 -1.23273951e-01 -2.95324385e-01  1.55260785e-01\n",
      "   3.22197765e-01 -7.42805781e-02 -1.45795079e-01  2.25525574e-01\n",
      "   1.58783295e-01  4.58039969e-01  8.78461876e-01  1.80805192e+00\n",
      "   5.30254258e-01  2.76226124e-01  6.89620525e-01  5.21751234e-01\n",
      "   1.57833246e-01  8.05289455e-01  1.40339451e+00  4.48331484e-01\n",
      "   5.10504668e-01  1.40528756e+00  5.10881505e-01  8.91278994e-01\n",
      "   7.00653630e-01  1.04058527e+00  4.75263087e-01  3.31357548e-01\n",
      "   6.82764496e-01  7.97222218e-01  5.78854874e-01  1.13534641e+00\n",
      "   1.38367643e-01  2.53763770e-01  5.99922558e-02  2.11901063e-01\n",
      "  -6.20994943e-01  5.02957871e-01  8.80329098e-01  1.50864515e-01\n",
      "   8.67698358e-03  3.72825407e-01  1.32439060e+00  1.14334288e+00\n",
      "   2.01359887e+00  1.31897078e+00  1.10338323e+00  9.81092770e-01\n",
      "   4.74877180e+00  2.98687097e+00  1.48899329e+00  5.67597315e-01\n",
      "   8.15674963e-01 -6.02862478e-02 -1.08376451e+00 -9.55008797e-01\n",
      "  -9.91841137e-01 -7.43467887e-01 -1.29526448e+00 -1.13388977e+00\n",
      "  -1.67203823e-01  2.47311384e-01  3.92231682e+00  9.61068644e-01\n",
      "  -1.94262087e-02  2.53599350e-01 -1.28185658e-01 -2.90428777e-01\n",
      "  -9.94844853e-02  3.38284599e+00  7.67747979e-02 -1.98756310e-01\n",
      "   1.36196689e-01  6.80538287e-01 -3.10325387e-01  1.10159658e-01\n",
      "   6.09395870e-01  1.84712599e-01  1.70651231e-01  2.42296683e-01\n",
      "   1.49914254e-01 -3.13641122e-01 -2.05982128e-01  5.55703089e-01\n",
      "   1.96327298e-01  1.61965485e-02 -7.37529303e-03  1.92267374e-01\n",
      "   2.54980347e-02  8.21025022e-01  1.83948503e+00 -1.76669980e-01\n",
      "   1.25023801e-01  1.35427831e-02  3.54339628e-01  9.93013370e-02\n",
      "   2.17156480e-01  1.47759906e+00  9.23136205e-02  2.57014109e-01\n",
      "   3.82963208e-01 -1.02323824e-01  1.54641264e+00  1.95609505e+00\n",
      "   2.13449473e+00  1.68858817e+00  8.69469332e-01  1.54641264e+00\n",
      "   2.09773002e+00  1.73295010e+00  1.18952210e+00 -1.56110568e-01\n",
      "  -1.19454446e+00 -3.38156944e-01 -4.62553882e-01  1.08704295e+00\n",
      "   1.69207678e+00  1.24025699e+00  2.06513375e+00  6.07589387e-01\n",
      "   1.08704295e+00  1.24031065e+00  7.39420457e-01  1.15341738e+00\n",
      "  -1.41908968e-01 -1.09024104e+00  2.10133279e+00  2.35025127e+00\n",
      "   9.04547064e-01  5.88792715e-01  8.33510234e-01  2.80250813e-01\n",
      "  -4.01624773e-01  9.04547064e-01  3.09432298e-01  1.46829289e+00\n",
      "   1.14263169e+00  2.55174944e+00  4.55150821e-01 -1.28695649e+00\n",
      "  -1.04248147e+00  1.23250492e+00  1.61217196e+00  1.72705301e+00\n",
      "   1.23976943e+00  5.67208637e-01  1.23250492e+00  9.03097994e-01\n",
      "   1.42857830e+00  1.26933123e+00 -4.12417103e-02 -1.72896905e+00\n",
      "  -9.82017621e-02 -4.14939915e-01 -5.58808676e-01  1.58943555e+00\n",
      "  -8.55281668e-01 -6.17436468e-02 -7.00100494e-01  3.11452762e-01\n",
      "  -7.51847030e-02]]\n"
     ]
    }
   ],
   "source": [
    "print(X_train_scaled[:1])"
   ]
  },
  {
   "cell_type": "code",
   "execution_count": 17,
   "metadata": {
    "colab": {},
    "colab_type": "code",
    "id": "_l9_HZcbod8a"
   },
   "outputs": [],
   "source": [
    "# Specify range of hyperparameters for linear and non-linear regression model using SVM models.\n",
    "params_grid = [{'kernel': ['rbf'], 'gamma': [1e-3, 1e-4], 'C': [1, 10, 100, 1000]},\n",
    "              {'kernel': ['linear'], 'C': [1, 10, 100, 1000]}]"
   ]
  },
  {
   "cell_type": "code",
   "execution_count": 22,
   "metadata": {
    "colab": {
     "base_uri": "https://localhost:8080/",
     "height": 255
    },
    "colab_type": "code",
    "executionInfo": {
     "elapsed": 732768,
     "status": "ok",
     "timestamp": 1588059453237,
     "user": {
      "displayName": "Junmo An",
      "photoUrl": "https://lh3.googleusercontent.com/a-/AOh14Gj5i3lgizGZ18Gjf053phbgFazmHzZTmG3QNyhO=s64",
      "userId": "01963327505044644290"
     },
     "user_tz": 300
    },
    "id": "_MlioOVhqc2n",
    "outputId": "60d85039-02e1-4489-dd59-ccbf95932fb0"
   },
   "outputs": [
    {
     "name": "stderr",
     "output_type": "stream",
     "text": [
      "UsageError: Line magic function `%%time` not found.\n"
     ]
    }
   ],
   "source": [
    "# Create a KFold object with 10 splits.\n",
    "%%time\n",
    "folds = KFold(n_splits=10, shuffle=True, random_state=0)\n",
    "\n",
    "# Set the parameters by cross-validation.\n",
    "# Set up GridSearchCV() funcion.\n",
    "svm_model = GridSearchCV(SVC(), params_grid, scoring='accuracy', cv=folds)\n",
    "svm_model.fit(X_train_scaled, y_train)\n",
    "print('Best score for the training data:', svm_model.best_score_) \n",
    "\n",
    "# Print the best parameters for the model using grid search.\n",
    "print('Best C:', svm_model.best_estimator_.C) \n",
    "print('Best Kernel:', svm_model.best_estimator_.kernel)\n",
    "print('Best Gamma:', svm_model.best_estimator_.gamma)\n",
    "\n",
    "final_model = svm_model.best_estimator_\n",
    "y_pred = final_model.predict(X_test_scaled)\n",
    "y_pred_label = list(encoder.inverse_transform(y_pred))"
   ]
  },
  {
   "cell_type": "code",
   "execution_count": 78,
   "metadata": {
    "colab": {
     "base_uri": "https://localhost:8080/",
     "height": 119
    },
    "colab_type": "code",
    "executionInfo": {
     "elapsed": 286,
     "status": "ok",
     "timestamp": 1588059666379,
     "user": {
      "displayName": "Junmo An",
      "photoUrl": "https://lh3.googleusercontent.com/a-/AOh14Gj5i3lgizGZ18Gjf053phbgFazmHzZTmG3QNyhO=s64",
      "userId": "01963327505044644290"
     },
     "user_tz": 300
    },
    "id": "RVd_XHHbsLuQ",
    "outputId": "3278419b-cac3-4e18-8107-9d0fa1bd6a35"
   },
   "outputs": [
    {
     "name": "stdout",
     "output_type": "stream",
     "text": [
      "[[537   0   0   0   0   0]\n",
      " [  3 439  48   0   0   1]\n",
      " [  0  11 521   0   0   0]\n",
      " [  0   0   0 486   4   6]\n",
      " [  0   0   0   6 389  25]\n",
      " [  0   0   0  15   2 454]]\n"
     ]
    }
   ],
   "source": [
    "# Confusion Matrix.\n",
    "print(confusion_matrix(y_test, y_pred))"
   ]
  },
  {
   "cell_type": "code",
   "execution_count": 85,
   "metadata": {
    "colab": {
     "base_uri": "https://localhost:8080/",
     "height": 472
    },
    "colab_type": "code",
    "executionInfo": {
     "elapsed": 665,
     "status": "ok",
     "timestamp": 1588059872321,
     "user": {
      "displayName": "Junmo An",
      "photoUrl": "https://lh3.googleusercontent.com/a-/AOh14Gj5i3lgizGZ18Gjf053phbgFazmHzZTmG3QNyhO=s64",
      "userId": "01963327505044644290"
     },
     "user_tz": 300
    },
    "id": "HVPpQHahvJRT",
    "outputId": "c60e2e90-53b6-4724-9727-894aaa7fba94"
   },
   "outputs": [
    {
     "data": {
      "image/png": "[encoded data removed]",
      "text/plain": [
       "<Figure size 576x576 with 2 Axes>"
      ]
     },
     "metadata": {
      "needs_background": "light",
      "tags": []
     },
     "output_type": "display_data"
    }
   ],
   "source": [
    "cm = metrics.confusion_matrix(y_test, y_pred)\n",
    "plot_confusion_matrix(conf_mat=cm,\n",
    "                      show_absolute=True,\n",
    "                      show_normed=True,\n",
    "                      colorbar=True,\n",
    "                      figsize=(8,8))\n",
    "plt.show()"
   ]
  },
  {
   "cell_type": "code",
   "execution_count": 79,
   "metadata": {
    "colab": {
     "base_uri": "https://localhost:8080/",
     "height": 238
    },
    "colab_type": "code",
    "executionInfo": {
     "elapsed": 345,
     "status": "ok",
     "timestamp": 1588059715291,
     "user": {
      "displayName": "Junmo An",
      "photoUrl": "https://lh3.googleusercontent.com/a-/AOh14Gj5i3lgizGZ18Gjf053phbgFazmHzZTmG3QNyhO=s64",
      "userId": "01963327505044644290"
     },
     "user_tz": 300
    },
    "id": "Z_Imd93mu4Vf",
    "outputId": "549d71a7-f475-45a1-b7f4-701d7ff7d37e"
   },
   "outputs": [
    {
     "name": "stdout",
     "output_type": "stream",
     "text": [
      "              precision    recall  f1-score   support\n",
      "\n",
      "           0       0.99      1.00      1.00       537\n",
      "           1       0.98      0.89      0.93       491\n",
      "           2       0.92      0.98      0.95       532\n",
      "           3       0.96      0.98      0.97       496\n",
      "           4       0.98      0.93      0.95       420\n",
      "           5       0.93      0.96      0.95       471\n",
      "\n",
      "    accuracy                           0.96      2947\n",
      "   macro avg       0.96      0.96      0.96      2947\n",
      "weighted avg       0.96      0.96      0.96      2947\n",
      "\n"
     ]
    }
   ],
   "source": [
    "# Print classificatin report.\n",
    "print(classification_report(y_test, y_pred))"
   ]
  },
  {
   "cell_type": "code",
   "execution_count": 76,
   "metadata": {
    "colab": {
     "base_uri": "https://localhost:8080/",
     "height": 51
    },
    "colab_type": "code",
    "executionInfo": {
     "elapsed": 14384,
     "status": "ok",
     "timestamp": 1588059590160,
     "user": {
      "displayName": "Junmo An",
      "photoUrl": "https://lh3.googleusercontent.com/a-/AOh14Gj5i3lgizGZ18Gjf053phbgFazmHzZTmG3QNyhO=s64",
      "userId": "01963327505044644290"
     },
     "user_tz": 300
    },
    "id": "E7rIivgHsQnX",
    "outputId": "bf505d6c-c8d4-44d3-aa8f-955e83427b31"
   },
   "outputs": [
    {
     "name": "stdout",
     "output_type": "stream",
     "text": [
      "Training set score for SVM: 1.000000\n",
      "Testing  set score for SVM: 0.958941\n"
     ]
    }
   ],
   "source": [
    "print(\"Training set score for SVM: %f\" % final_model.score(X_train_scaled , y_train))\n",
    "print(\"Testing  set score for SVM: %f\" % final_model.score(X_test_scaled  , y_test))"
   ]
  },
  {
   "cell_type": "code",
   "execution_count": 0,
   "metadata": {
    "colab": {},
    "colab_type": "code",
    "id": "_HoGUYQtuf3q"
   },
   "outputs": [],
   "source": []
  }
 ],
 "metadata": {
  "colab": {
   "authorship_tag": "ABX9TyNSd6w0yQQcvgZ7OyDXF62G",
   "collapsed_sections": [],
   "mount_file_id": "101ehORTPROw7YAriRM-xFTkO29CFT_vQ",
   "name": "Human_Activity_Recognition_SVM.ipynb",
   "provenance": []
  },
  "kernelspec": {
   "display_name": "Python 3",
   "language": "python",
   "name": "python3"
  },
  "language_info": {
   "codemirror_mode": {
    "name": "ipython",
    "version": 3
   },
   "file_extension": ".py",
   "mimetype": "text/x-python",
   "name": "python",
   "nbconvert_exporter": "python",
   "pygments_lexer": "ipython3",
   "version": "3.8.8"
  }
 },
 "nbformat": 4,
 "nbformat_minor": 1
}
